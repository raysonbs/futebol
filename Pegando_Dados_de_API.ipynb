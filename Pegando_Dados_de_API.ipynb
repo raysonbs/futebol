{
  "nbformat": 4,
  "nbformat_minor": 0,
  "metadata": {
    "colab": {
      "provenance": [],
      "private_outputs": true
    },
    "kernelspec": {
      "name": "python3",
      "display_name": "Python 3"
    },
    "language_info": {
      "name": "python"
    },
    "gpuClass": "standard"
  },
  "cells": [
    {
      "cell_type": "markdown",
      "source": [
        "FootyStats"
      ],
      "metadata": {
        "id": "vPc_g1A_q-I4"
      }
    },
    {
      "cell_type": "code",
      "execution_count": null,
      "metadata": {
        "id": "TlbULUqHO8ww"
      },
      "outputs": [],
      "source": [
        "#importando bibliotecas\n",
        "import pandas as pd\n",
        "import requests"
      ]
    },
    {
      "cell_type": "code",
      "source": [
        "# League Matches\n",
        "url = \"https://api.football-data-api.com/league-matches?key=example&season_id=1625\"\n",
        "# url = \"https://api.football-data-api.com/league-matches?key=example&season_id=2012\"\n",
        "\n",
        "# League Teams\n",
        "# url = \"https://api.football-data-api.com/league-teams?key=example&season_id=1625&include=stats\"\n",
        "# url = \"https://api.football-data-api.com/league-teams?key=example&season_id=2012&include=stats\"\n",
        "\n",
        "# League Players\n",
        "# url = \"https://api.football-data-api.com/league-players?key=example&season_id=1625\"\n",
        "# url = \"https://api.football-data-api.com/league-players?key=example&season_id=2012\""
      ],
      "metadata": {
        "id": "REsoYcYhPH_l"
      },
      "execution_count": null,
      "outputs": []
    },
    {
      "cell_type": "code",
      "source": [
        "data = requests.get(url)\n",
        "# data"
      ],
      "metadata": {
        "id": "tys1vpNSUY4j"
      },
      "execution_count": null,
      "outputs": []
    },
    {
      "cell_type": "code",
      "source": [
        "resp = data.json()\n",
        "# resp"
      ],
      "metadata": {
        "id": "mWmwHHPPVGMJ"
      },
      "execution_count": null,
      "outputs": []
    },
    {
      "cell_type": "code",
      "source": [
        "resp = data.json()['data']\n",
        "# resp"
      ],
      "metadata": {
        "id": "5CJBDKyCVHB0"
      },
      "execution_count": null,
      "outputs": []
    },
    {
      "cell_type": "code",
      "source": [
        "dados = pd.DataFrame.from_dict(resp)\n",
        "# dados"
      ],
      "metadata": {
        "id": "WN1EhMQqVHw0"
      },
      "execution_count": null,
      "outputs": []
    },
    {
      "cell_type": "code",
      "source": [
        "dados.info()"
      ],
      "metadata": {
        "id": "cPJX5F0RVhd_"
      },
      "execution_count": null,
      "outputs": []
    },
    {
      "cell_type": "code",
      "source": [
        "# Gerando os dados para excel\n",
        "dados.to_excel(\"league_matches.xlsx\", encoding='utf-8', index=False)"
      ],
      "metadata": {
        "id": "mJDtyu1JPTI2"
      },
      "execution_count": null,
      "outputs": []
    },
    {
      "cell_type": "code",
      "source": [
        "# ['id','homeID','awayID','season','status','roundID','game_week','revised_game_week','homeGoals','awayGoals','homeGoalCount','awayGoalCount','totalGoalCount','team_a_corners','team_b_corners','totalCornerCount','team_a_offsides','team_b_offsides','team_a_yellow_cards','team_b_yellow_cards','team_a_red_cards','team_b_red_cards','team_a_shotsOnTarget','team_b_shotsOnTarget','team_a_shotsOffTarget','team_b_shotsOffTarget','team_a_shots','team_b_shots','team_a_fouls','team_b_fouls','team_a_possession','team_b_possession','refereeID','coach_a_ID','coach_b_ID','stadium_name','stadium_location','team_a_cards_num','team_b_cards_num','odds_ft_1','odds_ft_x','odds_ft_2','odds_ft_over05','odds_ft_over15','odds_ft_over25','odds_ft_over35','odds_ft_over45','odds_ft_under05','odds_ft_under15','odds_ft_under25','odds_ft_under35','odds_ft_under45','odds_btts_yes','odds_btts_no','odds_team_a_cs_yes','odds_team_a_cs_no','odds_team_b_cs_yes','odds_team_b_cs_no','odds_doublechance_1x','odds_doublechance_12','odds_doublechance_x2','odds_1st_half_result_1','odds_1st_half_result_x','odds_1st_half_result_2','odds_2nd_half_result_1','odds_2nd_half_result_x','odds_2nd_half_result_2','odds_dnb_1','odds_dnb_2','odds_corners_over_75','odds_corners_over_85','odds_corners_over_95','odds_corners_over_105','odds_corners_over_115','odds_corners_under_75','odds_corners_under_85','odds_corners_under_95','odds_corners_under_105','odds_corners_under_115','odds_corners_1','odds_corners_x','odds_corners_2','odds_team_to_score_first_1','odds_team_to_score_first_x','odds_team_to_score_first_2','odds_win_to_nil_1','odds_win_to_nil_2','odds_1st_half_over05','odds_1st_half_over15','odds_1st_half_over25','odds_1st_half_over35','odds_1st_half_under05','odds_1st_half_under15','odds_1st_half_under25','odds_1st_half_under35','odds_2nd_half_over05','odds_2nd_half_over15','odds_2nd_half_over25','odds_2nd_half_over35','odds_2nd_half_under05','odds_2nd_half_under15','odds_2nd_half_under25','odds_2nd_half_under35','odds_btts_1st_half_yes','odds_btts_1st_half_no','odds_btts_2nd_half_yes','odds_btts_2nd_half_no','overallGoalCount','ht_goals_team_a','ht_goals_team_b','goals_2hg_team_a','goals_2hg_team_b','GoalCount_2hg','HTGoalCount','date_unix','winningTeam','no_home_away','btts_potential','btts_fhg_potential','btts_2hg_potential','goalTimingDisabled','attendance','corner_timings_recorded','card_timings_recorded','team_a_fh_corners','team_b_fh_corners','team_a_2h_corners','team_b_2h_corners','corner_fh_count','corner_2h_count','team_a_fh_cards','team_b_fh_cards','team_a_2h_cards','team_b_2h_cards','total_fh_cards','total_2h_cards','attacks_recorded','team_a_dangerous_attacks','team_b_dangerous_attacks','team_a_attacks','team_b_attacks','team_a_xg','team_b_xg','total_xg','team_a_penalties_won','team_b_penalties_won','team_a_penalty_goals','team_b_penalty_goals','team_a_penalty_missed','team_b_penalty_missed','pens_recorded','goal_timings_recorded','team_a_0_10_min_goals','team_b_0_10_min_goals','team_a_corners_0_10_min','team_b_corners_0_10_min','team_a_cards_0_10_min','team_b_cards_0_10_min','throwins_recorded','team_a_throwins','team_b_throwins','freekicks_recorded','team_a_freekicks','team_b_freekicks','goalkicks_recorded','team_a_goalkicks','team_b_goalkicks','o45_potential','o35_potential','o25_potential','o15_potential','o05_potential','o15HT_potential','o05HT_potential','o05_2H_potential','o15_2H_potential','corners_potential','offsides_potential','cards_potential','avg_potential','home_url','home_image','home_name','away_url','away_image','away_name','home_ppg','away_ppg','pre_match_home_ppg','pre_match_away_ppg','pre_match_teamA_overall_ppg','pre_match_teamB_overall_ppg','u45_potential','u35_potential','u25_potential','u15_potential','u05_potential','corners_o85_potential','corners_o95_potential','corners_o105_potential','team_a_xg_prematch','team_b_xg_prematch','total_xg_prematch','match_url','competition_id','matches_completed_minimum','over05','over15','over25','over35','over45','over55','btts']"
      ],
      "metadata": {
        "id": "9v-DyAB_W04g"
      },
      "execution_count": null,
      "outputs": []
    },
    {
      "cell_type": "markdown",
      "source": [
        "API Football"
      ],
      "metadata": {
        "id": "cwexgJVBq56S"
      }
    },
    {
      "cell_type": "code",
      "source": [
        "api_key = 'b391b3f5f1c3a32ba6dd99b1348c7c0c01f15d1357a44c4d5d1995edd4b19d35'"
      ],
      "metadata": {
        "id": "qhsZVBreV836"
      },
      "execution_count": null,
      "outputs": []
    },
    {
      "cell_type": "code",
      "source": [
        "requests.get('https://apiv2.apifootball.com/?action=get_countries&APIkey=b391b3f5f1c3a32ba6dd99b1348c7c0c01f15d1357a44c4d5d1995edd4b19d35').json()"
      ],
      "metadata": {
        "id": "SxdIssMLV9cT"
      },
      "execution_count": null,
      "outputs": []
    },
    {
      "cell_type": "code",
      "source": [
        "requests.get('https://apiv2.apifootball.com/?action=get_leagues&country_id=41&APIkey=b391b3f5f1c3a32ba6dd99b1348c7c0c01f15d1357a44c4d5d1995edd4b19d35').json()"
      ],
      "metadata": {
        "id": "pae5OAQxWF4d"
      },
      "execution_count": null,
      "outputs": []
    },
    {
      "cell_type": "code",
      "source": [
        "matches = requests.get('https://apiv2.apifootball.com/?action=get_events&from=2020-01-01&to=2022-06-30&league_id=149&APIkey=b391b3f5f1c3a32ba6dd99b1348c7c0c01f15d1357a44c4d5d1995edd4b19d35').json()"
      ],
      "metadata": {
        "id": "7Ok7ps-4mwBi"
      },
      "execution_count": null,
      "outputs": []
    },
    {
      "cell_type": "code",
      "source": [
        "df = pd.DataFrame(matches)"
      ],
      "metadata": {
        "id": "2pahlcE9m6Al"
      },
      "execution_count": null,
      "outputs": []
    },
    {
      "cell_type": "code",
      "source": [
        "df.info()"
      ],
      "metadata": {
        "id": "9uB58BlUm2xl"
      },
      "execution_count": null,
      "outputs": []
    },
    {
      "cell_type": "code",
      "source": [],
      "metadata": {
        "id": "lyh3bqdntF0J"
      },
      "execution_count": null,
      "outputs": []
    }
  ]
}